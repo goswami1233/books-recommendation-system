{
 "cells": [
  {
   "cell_type": "code",
   "execution_count": null,
   "id": "2de516ba",
   "metadata": {},
   "outputs": [],
   "source": [
    "import numpy as np\n",
    "import pandas as pd\n",
    "import seaborn as sns\n",
    "import matplotlib.pyplot as plt\n",
    "\n",
    "df=pd.read_csv('books.csv', error_bad_lines=False)\n",
    "df=df.drop(['Unnamed: 12'], axis=1)\n",
    "df.head()"
   ]
  },
  {
   "cell_type": "code",
   "execution_count": null,
   "id": "e9b8b19a",
   "metadata": {},
   "outputs": [],
   "source": [
    "df.isnull().sum()\n",
    "df.info()\n",
    "df.describe()\n",
    "top_ten=df[df['ratings_count']>1000000]\n",
    "top_ten=top_ten.sort_values(by='ratings_count', ascending=False).head(10)\n",
    "top_ten_rating=top_ten.sort_values(by='average_rating', ascending=False)\n",
    "\n",
    "plt.style.use('seaborn-whitegrid')\n",
    "plt.figure(figsize=(20,20))\n",
    "sns.barplot(x=\"average_rating\", y=\"title\", data=top_ten_rating, palette='inferno')"
   ]
  },
  {
   "cell_type": "code",
   "execution_count": null,
   "id": "0135c1b8",
   "metadata": {},
   "outputs": [],
   "source": [
    "book_aut=df.groupby('authors')['title'].count().reset_index().sort_values('title', ascending=False).head(10).set_index('authors')\n",
    "book_aut\n",
    "plt.figure(figsize=(20,15))\n",
    "ax=sns.barplot(book_aut['title'], book_aut.index, palette='inferno')\n",
    "ax.set_title(\"Top 10 authors  with most books\")\n",
    "ax.set_xlabel(\"Total number of books\")\n",
    "\n",
    "total=[]\n",
    "\n",
    "for i in ax.patches:A\n",
    "    total.append(i.get_width())\n",
    "    \n",
    "totals=sum(total)\n",
    "\n",
    "for i in ax.patches:\n",
    "    ax.text(i.get_width()+.2, i.get_y()+.2, str(round(i.get_width())))\n",
    "\n",
    "plt.show()"
   ]
  },
  {
   "cell_type": "code",
   "execution_count": null,
   "id": "9c23ff9c",
   "metadata": {},
   "outputs": [],
   "source": [
    "plt.figure(figsize=(20,15))\n",
    "\n",
    "ax=sns.barplot(most_rated['ratings_count'], most_rated.index, palette='inferno')\n",
    "ax.set_title(\"Top 10 books  with most rated\")\n",
    "\n",
    "\n",
    "total=[]\n",
    "\n",
    "for i in ax.patches:\n",
    "    total.append(i.get_width())\n",
    "    \n",
    "totals=sum(total)\n",
    "\n",
    "for i in ax.patches:\n",
    "    ax.text(i.get_width()+.2, i.get_y()+.2, str(round(i.get_width())))\n",
    "\n",
    "plt.show()"
   ]
  },
  {
   "cell_type": "code",
   "execution_count": null,
   "id": "ceba326c",
   "metadata": {},
   "outputs": [],
   "source": [
    "df=df.sort_values('average_rating').reset_index()\n",
    "df=df.iloc[4:]\n",
    "df.average_rating=df.average_rating.astype(float)\n",
    "fig, ax= plt.subplots(figsize=[15,10])\n",
    "\n",
    "sns.distplot(df['average_rating'], ax=ax)\n",
    "ax.set_title('Average rating distribution for all books')\n",
    "ax.set_xlabel('average rating')\n",
    "plt.figure(figsize=(20,20))\n",
    "ax=sns.relplot(data=df, x=\"average_rating\", y=\"ratings_count\",sizes=(400,200), height=7)\n",
    "plt.title('Relation between Rating counts and avg rating')\n",
    "ax.set_axis_labels(\"average_rating\", \"ratings_count\")"
   ]
  },
  {
   "cell_type": "code",
   "execution_count": null,
   "id": "d9c749e1",
   "metadata": {},
   "outputs": [],
   "source": [
    "df=df.sort_values('num_pages', ascending=False).reset_index()\n",
    "df=df.iloc[4:]\n",
    "df.head(20)\n",
    "df.num_pages=df.num_pages.astype(float)\n",
    "plt.figure(figsize=(20,20))\n",
    "ax=sns.relplot( x=\"average_rating\", y=\"num_pages\",data=df,sizes=(400,200), height=7)\n",
    "plt.title('Relation between Rating counts and no pages')\n",
    "ax.set_axis_labels(\"average_rating\", \"no pages\")"
   ]
  },
  {
   "cell_type": "code",
   "execution_count": null,
   "id": "361f5b61",
   "metadata": {},
   "outputs": [],
   "source": [
    "df2=df.copy()\n",
    "df2.loc[(df2['average_rating']>=0)&(df2['average_rating']<=1),'rating between']=\"between 0 and 1\"\n",
    "df2.loc[(df2['average_rating']>1)&(df2['average_rating']<=2),'rating between']=\"between 1 and 2\"\n",
    "df2.loc[(df2['average_rating']>2)&(df2['average_rating']<=3),'rating between']=\"between 2 and 3\"\n",
    "df2.loc[(df2['average_rating']>3)&(df2['average_rating']<=4),'rating between']=\"between 3 and 4\"\n",
    "df2.loc[(df2['average_rating']>4)&(df2['average_rating']<=5),'rating between']=\"between 4 and 5\"\n",
    "df2.sort_values('average_rating')\n",
    "rating_df=pd.get_dummies(df2['rating between'])\n",
    "language_df=pd.get_dummies(df2['language_code'])\n",
    "feature=pd.concat([rating_df, language_df, df2['average_rating'], df2['ratings_count']], axis=1)"
   ]
  },
  {
   "cell_type": "code",
   "execution_count": null,
   "id": "8874c1bf",
   "metadata": {},
   "outputs": [],
   "source": [
    "from sklearn.preprocessing import MinMaxScaler\n",
    "minmax=MinMaxScaler()\n",
    "feature=minmax.fit_transform(feature)\n",
    "from sklearn import neighbors\n",
    "from sklearn.model_selection import train_test_split\n",
    "\n",
    "model=neighbors.NearestNeighbors(n_neighbors=8, algorithm='ball_tree')\n",
    "\n",
    "model.fit(feature)\n",
    "\n",
    "dist, idlist=model.kneighbors(feature)\n",
    "def bookRecom(name):\n",
    "    book_list=[]\n",
    "    book_id=df2[df2['title']==name].index\n",
    "    book_id=book_id[0]\n",
    "    for new in idlist[book_id]:\n",
    "        book_list.append(df2.loc[new].title)\n",
    "    return book_list\n",
    "\n",
    "Book_name=bookRecom('Harry Potter and the Half-Blood Prince (Harry Potter  #6)')\n",
    "Book_name"
   ]
  },
  {
   "cell_type": "code",
   "execution_count": null,
   "id": "b260a90a",
   "metadata": {},
   "outputs": [],
   "source": []
  }
 ],
 "metadata": {
  "kernelspec": {
   "display_name": "Python 3 (ipykernel)",
   "language": "python",
   "name": "python3"
  },
  "language_info": {
   "codemirror_mode": {
    "name": "ipython",
    "version": 3
   },
   "file_extension": ".py",
   "mimetype": "text/x-python",
   "name": "python",
   "nbconvert_exporter": "python",
   "pygments_lexer": "ipython3",
   "version": "3.10.5"
  }
 },
 "nbformat": 4,
 "nbformat_minor": 5
}
